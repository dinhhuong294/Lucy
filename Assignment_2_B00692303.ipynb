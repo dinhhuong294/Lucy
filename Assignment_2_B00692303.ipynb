{
 "cells": [
  {
   "cell_type": "markdown",
   "metadata": {},
   "source": [
    "__Factors that affect the ranking of a university most in 2018-2019__\n",
    "=="
   ]
  },
  {
   "cell_type": "markdown",
   "metadata": {},
   "source": [
    "## 1. Introduction"
   ]
  },
  {
   "cell_type": "markdown",
   "metadata": {},
   "source": [
    "   There are many factors that can affect one's choice of the university they are going to pursue, such as the location, the tuition or the program, and, in many cases, the reputation of a school. Students can find several national and international university ranking web pages that provide them either overall rankings or the breakdown of different parameters that contribute to the ranking of a school. However, it is still unclear what the most important criteria that make the overall quality of a school are. Students that only look into general rankings to decide what university to attend can be misled by the information provided by these ranking websites. In addition, certain aspects of an educational institute can be one student's interest but not the other's. It is important that students who consult university ranking websites are acknowledged of what aspects the ranking systems are based on.  Since there are numerous ranking websites using different ranking systems, but little has reference sources, it is essential to comprehend where the data come from to make the right judgement of the information that the data imply.\n"
   ]
  },
  {
   "cell_type": "markdown",
   "metadata": {},
   "source": [
    " To investigate the factors that dictate the ranking system of some common ranking webpages, we looked into statistics of ‘World University Rankings 2018-2019’, retrieved from The Center for World University Rankings website (CWUR). This website claimed to be “a leading consulting organization providing policy advice, strategic insights, and consulting services to governments and universities to improve educational and research outcomes\". In addition, we are also interested in the worldwide distribution of high-ranked universities around the world. Therefore, we analyzed the retrieved data and investigate countries with highest-ranked universities. This information shall be useful for students who are interested in studying abroad and would like to earn globally-recognized degrees. "
   ]
  },
  {
   "cell_type": "markdown",
   "metadata": {},
   "source": [
    "The data retrieved from CWUR World not only give an overall world rank of each of one thousand highest-ranked institutions, it also includes factors such as quality of education,\talumni employment, quality of faculty, research output, quality of publications, influence and citations. Each element is described below:\n",
    "<br /> \n",
    "<br /> \n",
    "1) Quality of Education, measured by the number of a university's alumni who have won major international awards, prizes, and medals relative to the university's size (15%). \n",
    "<br /> \n",
    "2) Alumni Employment, measured by the number of a university's alumni who have held CEO positions at the world's top companies relative to the university's size (15%).\n",
    "<br /> \n",
    "3) Quality of Faculty, measured by the number of academics who have won major international awards, prizes, and medals (15%) \n",
    "<br /> \n",
    "4) Research Output, measured by the the total number of research papers (15%) \n",
    "<br /> \n",
    "5) Quality Publications, measured by the number of research papers appearing in top-tier journals (15%) \n",
    "<br /> \n",
    "6) Influence, measured by the number of research papers appearing in highly-influential journals (15%)\n",
    "<br /> \n",
    "7) Citations, measured by the number of highly-cited research papers (10%)\n"
   ]
  },
  {
   "cell_type": "markdown",
   "metadata": {},
   "source": [
    "The data is claimed to not relying on surveys or university data submissions. With one thousand different institutions in the list, CWUR offer the largest academic ranking of global universities. The data also provide information of national ranks of each institution; however, it is unclear if the national ranks provided in this set of data were evaluated differently from world ranks, that is, whether national ranks follow a different ranking system, or not. Therefore, to clarify this confusion, we looked into the correspondence between world ranks and national ranks."
   ]
  },
  {
   "cell_type": "markdown",
   "metadata": {},
   "source": [
    "## 2. Methods and Results"
   ]
  },
  {
   "cell_type": "markdown",
   "metadata": {},
   "source": [
    " R programming pakages that were used to facilitate the analysis of the data including rvest and dplyr."
   ]
  },
  {
   "cell_type": "code",
   "execution_count": 154,
   "metadata": {},
   "outputs": [],
   "source": [
    "library(rvest)\n",
    "library(dplyr)"
   ]
  },
  {
   "cell_type": "markdown",
   "metadata": {},
   "source": [
    "The full data table were obtained from CWUR website and were assigned as 'fullrdata'. This table includes the full list of 1000 different institutions. This data set was analysed to investigate the top countries that have the most institutions in this top-1000-list."
   ]
  },
  {
   "cell_type": "code",
   "execution_count": 125,
   "metadata": {},
   "outputs": [],
   "source": [
    "ranks = read_html('https://cwur.org/2018-19.php')\n",
    "ranks %>% html_nodes('table')\n",
    "fullrdata = ranks %>% html_nodes('table') %>% .[[1]] %>%\n",
    "  html_table()\n",
    "col = names(fullrdata)\n",
    "names(fullrdata) = make.names(col)"
   ]
  },
  {
   "cell_type": "markdown",
   "metadata": {},
   "source": [
    " However, this full data set does not contain all the values for other variables, that is, the table contains some empty cells, which interfere with our analysis process. In order to conduct our data analysis efficiently, we omitted subjects that contain missing values. The new filtered data was assigned as 'rdata'."
   ]
  },
  {
   "cell_type": "code",
   "execution_count": 169,
   "metadata": {
    "scrolled": false
   },
   "outputs": [
    {
     "data": {
      "text/html": [
       "<table>\n",
       "<thead><tr><th scope=col>World.Rank</th><th scope=col>Institution</th><th scope=col>Location</th><th scope=col>National.Rank</th><th scope=col>Quality.of.Education</th><th scope=col>Alumni.Employment</th><th scope=col>Quality.of.Faculty</th><th scope=col>Research.Output</th><th scope=col>Quality..Publications</th><th scope=col>Influence</th><th scope=col>Citations</th><th scope=col>Score</th></tr></thead>\n",
       "<tbody>\n",
       "\t<tr><td>1                                    </td><td>Harvard University                   </td><td>USA                                  </td><td>1                                    </td><td>2                                    </td><td>1                                    </td><td>1                                    </td><td>1                                    </td><td>1                                    </td><td>1                                    </td><td>1                                    </td><td>100.0                                </td></tr>\n",
       "\t<tr><td>2                                    </td><td>Stanford University                  </td><td>USA                                  </td><td>2                                    </td><td>10                                   </td><td>3                                    </td><td>2                                    </td><td>10                                   </td><td>4                                    </td><td>3                                    </td><td>2                                    </td><td> 96.7                                </td></tr>\n",
       "\t<tr><td>3                                    </td><td>Massachusetts Institute of Technology</td><td>USA                                  </td><td>3                                    </td><td>3                                    </td><td>11                                   </td><td>3                                    </td><td>30                                   </td><td>15                                   </td><td>2                                    </td><td>6                                    </td><td> 95.1                                </td></tr>\n",
       "\t<tr><td>4                                    </td><td>University of Cambridge              </td><td>United Kingdom                       </td><td>1                                    </td><td>5                                    </td><td>19                                   </td><td>6                                    </td><td>12                                   </td><td>8                                    </td><td>6                                    </td><td>19                                   </td><td> 94.0                                </td></tr>\n",
       "\t<tr><td>5                                    </td><td>University of Oxford                 </td><td>United Kingdom                       </td><td>2                                    </td><td>9                                    </td><td>25                                   </td><td>10                                   </td><td>9                                    </td><td>5                                    </td><td>7                                    </td><td>4                                    </td><td> 93.2                                </td></tr>\n",
       "\t<tr><td>6                                    </td><td>University of California, Berkeley   </td><td>USA                                  </td><td>4                                    </td><td>7                                    </td><td>52                                   </td><td>5                                    </td><td>18                                   </td><td>12                                   </td><td>4                                    </td><td>8                                    </td><td> 92.5                                </td></tr>\n",
       "</tbody>\n",
       "</table>\n"
      ],
      "text/latex": [
       "\\begin{tabular}{r|llllllllllll}\n",
       " World.Rank & Institution & Location & National.Rank & Quality.of.Education & Alumni.Employment & Quality.of.Faculty & Research.Output & Quality..Publications & Influence & Citations & Score\\\\\n",
       "\\hline\n",
       "\t 1                                     & Harvard University                    & USA                                   & 1                                     & 2                                     & 1                                     & 1                                     & 1                                     & 1                                     & 1                                     & 1                                     & 100.0                                \\\\\n",
       "\t 2                                     & Stanford University                   & USA                                   & 2                                     & 10                                    & 3                                     & 2                                     & 10                                    & 4                                     & 3                                     & 2                                     &  96.7                                \\\\\n",
       "\t 3                                     & Massachusetts Institute of Technology & USA                                   & 3                                     & 3                                     & 11                                    & 3                                     & 30                                    & 15                                    & 2                                     & 6                                     &  95.1                                \\\\\n",
       "\t 4                                     & University of Cambridge               & United Kingdom                        & 1                                     & 5                                     & 19                                    & 6                                     & 12                                    & 8                                     & 6                                     & 19                                    &  94.0                                \\\\\n",
       "\t 5                                     & University of Oxford                  & United Kingdom                        & 2                                     & 9                                     & 25                                    & 10                                    & 9                                     & 5                                     & 7                                     & 4                                     &  93.2                                \\\\\n",
       "\t 6                                     & University of California, Berkeley    & USA                                   & 4                                     & 7                                     & 52                                    & 5                                     & 18                                    & 12                                    & 4                                     & 8                                     &  92.5                                \\\\\n",
       "\\end{tabular}\n"
      ],
      "text/markdown": [
       "\n",
       "World.Rank | Institution | Location | National.Rank | Quality.of.Education | Alumni.Employment | Quality.of.Faculty | Research.Output | Quality..Publications | Influence | Citations | Score | \n",
       "|---|---|---|---|---|---|\n",
       "| 1                                     | Harvard University                    | USA                                   | 1                                     | 2                                     | 1                                     | 1                                     | 1                                     | 1                                     | 1                                     | 1                                     | 100.0                                 | \n",
       "| 2                                     | Stanford University                   | USA                                   | 2                                     | 10                                    | 3                                     | 2                                     | 10                                    | 4                                     | 3                                     | 2                                     |  96.7                                 | \n",
       "| 3                                     | Massachusetts Institute of Technology | USA                                   | 3                                     | 3                                     | 11                                    | 3                                     | 30                                    | 15                                    | 2                                     | 6                                     |  95.1                                 | \n",
       "| 4                                     | University of Cambridge               | United Kingdom                        | 1                                     | 5                                     | 19                                    | 6                                     | 12                                    | 8                                     | 6                                     | 19                                    |  94.0                                 | \n",
       "| 5                                     | University of Oxford                  | United Kingdom                        | 2                                     | 9                                     | 25                                    | 10                                    | 9                                     | 5                                     | 7                                     | 4                                     |  93.2                                 | \n",
       "| 6                                     | University of California, Berkeley    | USA                                   | 4                                     | 7                                     | 52                                    | 5                                     | 18                                    | 12                                    | 4                                     | 8                                     |  92.5                                 | \n",
       "\n",
       "\n"
      ],
      "text/plain": [
       "  World.Rank Institution                           Location       National.Rank\n",
       "1 1          Harvard University                    USA            1            \n",
       "2 2          Stanford University                   USA            2            \n",
       "3 3          Massachusetts Institute of Technology USA            3            \n",
       "4 4          University of Cambridge               United Kingdom 1            \n",
       "5 5          University of Oxford                  United Kingdom 2            \n",
       "6 6          University of California, Berkeley    USA            4            \n",
       "  Quality.of.Education Alumni.Employment Quality.of.Faculty Research.Output\n",
       "1 2                    1                 1                  1              \n",
       "2 10                   3                 2                  10             \n",
       "3 3                    11                3                  30             \n",
       "4 5                    19                6                  12             \n",
       "5 9                    25                10                 9              \n",
       "6 7                    52                5                  18             \n",
       "  Quality..Publications Influence Citations Score\n",
       "1 1                     1         1         100.0\n",
       "2 4                     3         2          96.7\n",
       "3 15                    2         6          95.1\n",
       "4 8                     6         19         94.0\n",
       "5 5                     7         4          93.2\n",
       "6 12                    4         8          92.5"
      ]
     },
     "metadata": {},
     "output_type": "display_data"
    }
   ],
   "source": [
    "rdata = filter(fullrdata, Quality.of.Education != '-' & Alumni.Employment != '-' & Quality.of.Faculty!= '-' & Research.Output!= '-' & Quality..Publications!= '-' & Influence!= '-' &Citations!= '-')\n",
    "rdata = na.omit(rdata)\n",
    "head(rdata)"
   ]
  },
  {
   "cell_type": "markdown",
   "metadata": {},
   "source": [
    "After the filtration of full data table, our new table were cut down to a list of 223 schools instead of 1000 in the orginal table. "
   ]
  },
  {
   "cell_type": "code",
   "execution_count": 156,
   "metadata": {
    "scrolled": true
   },
   "outputs": [
    {
     "data": {
      "text/html": [
       "223"
      ],
      "text/latex": [
       "223"
      ],
      "text/markdown": [
       "223"
      ],
      "text/plain": [
       "[1] 223"
      ]
     },
     "metadata": {},
     "output_type": "display_data"
    },
    {
     "data": {
      "text/html": [
       "1000"
      ],
      "text/latex": [
       "1000"
      ],
      "text/markdown": [
       "1000"
      ],
      "text/plain": [
       "[1] 1000"
      ]
     },
     "metadata": {},
     "output_type": "display_data"
    }
   ],
   "source": [
    "nrow(rdata)\n",
    "nrow(fullrdata)"
   ]
  },
  {
   "cell_type": "markdown",
   "metadata": {},
   "source": [
    "These numbers showed that only 22.3% of the original data had all variables evaluated and ranked.  "
   ]
  },
  {
   "cell_type": "markdown",
   "metadata": {},
   "source": [
    "In addition to data filtration, we also noticed that any ranking of variables that was greater than 1000 was marked as '>1000' instead of the exact ranking position. For the ease of data analysis, we replaced '>1000' with '1000' before preceding with our studies."
   ]
  },
  {
   "cell_type": "code",
   "execution_count": 158,
   "metadata": {
    "scrolled": false
   },
   "outputs": [
    {
     "data": {
      "text/html": [
       "<table>\n",
       "<thead><tr><th scope=col>World.Rank</th><th scope=col>Institution</th><th scope=col>Location</th><th scope=col>National.Rank</th><th scope=col>Quality.of.Education</th><th scope=col>Alumni.Employment</th><th scope=col>Quality.of.Faculty</th><th scope=col>Research.Output</th><th scope=col>Quality..Publications</th><th scope=col>Influence</th><th scope=col>Citations</th><th scope=col>Score</th></tr></thead>\n",
       "<tbody>\n",
       "\t<tr><td>1                                    </td><td>Harvard University                   </td><td>USA                                  </td><td>1                                    </td><td>2                                    </td><td>1                                    </td><td>1                                    </td><td>1                                    </td><td>1                                    </td><td>1                                    </td><td>1                                    </td><td>100.0                                </td></tr>\n",
       "\t<tr><td>2                                    </td><td>Stanford University                  </td><td>USA                                  </td><td>2                                    </td><td>10                                   </td><td>3                                    </td><td>2                                    </td><td>10                                   </td><td>4                                    </td><td>3                                    </td><td>2                                    </td><td> 96.7                                </td></tr>\n",
       "\t<tr><td>3                                    </td><td>Massachusetts Institute of Technology</td><td>USA                                  </td><td>3                                    </td><td>3                                    </td><td>11                                   </td><td>3                                    </td><td>30                                   </td><td>15                                   </td><td>2                                    </td><td>6                                    </td><td> 95.1                                </td></tr>\n",
       "\t<tr><td>4                                    </td><td>University of Cambridge              </td><td>United Kingdom                       </td><td>1                                    </td><td>5                                    </td><td>19                                   </td><td>6                                    </td><td>12                                   </td><td>8                                    </td><td>6                                    </td><td>19                                   </td><td> 94.0                                </td></tr>\n",
       "\t<tr><td>5                                    </td><td>University of Oxford                 </td><td>United Kingdom                       </td><td>2                                    </td><td>9                                    </td><td>25                                   </td><td>10                                   </td><td>9                                    </td><td>5                                    </td><td>7                                    </td><td>4                                    </td><td> 93.2                                </td></tr>\n",
       "\t<tr><td>6                                    </td><td>University of California, Berkeley   </td><td>USA                                  </td><td>4                                    </td><td>7                                    </td><td>52                                   </td><td>5                                    </td><td>18                                   </td><td>12                                   </td><td>4                                    </td><td>8                                    </td><td> 92.5                                </td></tr>\n",
       "</tbody>\n",
       "</table>\n"
      ],
      "text/latex": [
       "\\begin{tabular}{r|llllllllllll}\n",
       " World.Rank & Institution & Location & National.Rank & Quality.of.Education & Alumni.Employment & Quality.of.Faculty & Research.Output & Quality..Publications & Influence & Citations & Score\\\\\n",
       "\\hline\n",
       "\t 1                                     & Harvard University                    & USA                                   & 1                                     & 2                                     & 1                                     & 1                                     & 1                                     & 1                                     & 1                                     & 1                                     & 100.0                                \\\\\n",
       "\t 2                                     & Stanford University                   & USA                                   & 2                                     & 10                                    & 3                                     & 2                                     & 10                                    & 4                                     & 3                                     & 2                                     &  96.7                                \\\\\n",
       "\t 3                                     & Massachusetts Institute of Technology & USA                                   & 3                                     & 3                                     & 11                                    & 3                                     & 30                                    & 15                                    & 2                                     & 6                                     &  95.1                                \\\\\n",
       "\t 4                                     & University of Cambridge               & United Kingdom                        & 1                                     & 5                                     & 19                                    & 6                                     & 12                                    & 8                                     & 6                                     & 19                                    &  94.0                                \\\\\n",
       "\t 5                                     & University of Oxford                  & United Kingdom                        & 2                                     & 9                                     & 25                                    & 10                                    & 9                                     & 5                                     & 7                                     & 4                                     &  93.2                                \\\\\n",
       "\t 6                                     & University of California, Berkeley    & USA                                   & 4                                     & 7                                     & 52                                    & 5                                     & 18                                    & 12                                    & 4                                     & 8                                     &  92.5                                \\\\\n",
       "\\end{tabular}\n"
      ],
      "text/markdown": [
       "\n",
       "World.Rank | Institution | Location | National.Rank | Quality.of.Education | Alumni.Employment | Quality.of.Faculty | Research.Output | Quality..Publications | Influence | Citations | Score | \n",
       "|---|---|---|---|---|---|\n",
       "| 1                                     | Harvard University                    | USA                                   | 1                                     | 2                                     | 1                                     | 1                                     | 1                                     | 1                                     | 1                                     | 1                                     | 100.0                                 | \n",
       "| 2                                     | Stanford University                   | USA                                   | 2                                     | 10                                    | 3                                     | 2                                     | 10                                    | 4                                     | 3                                     | 2                                     |  96.7                                 | \n",
       "| 3                                     | Massachusetts Institute of Technology | USA                                   | 3                                     | 3                                     | 11                                    | 3                                     | 30                                    | 15                                    | 2                                     | 6                                     |  95.1                                 | \n",
       "| 4                                     | University of Cambridge               | United Kingdom                        | 1                                     | 5                                     | 19                                    | 6                                     | 12                                    | 8                                     | 6                                     | 19                                    |  94.0                                 | \n",
       "| 5                                     | University of Oxford                  | United Kingdom                        | 2                                     | 9                                     | 25                                    | 10                                    | 9                                     | 5                                     | 7                                     | 4                                     |  93.2                                 | \n",
       "| 6                                     | University of California, Berkeley    | USA                                   | 4                                     | 7                                     | 52                                    | 5                                     | 18                                    | 12                                    | 4                                     | 8                                     |  92.5                                 | \n",
       "\n",
       "\n"
      ],
      "text/plain": [
       "  World.Rank Institution                           Location       National.Rank\n",
       "1 1          Harvard University                    USA            1            \n",
       "2 2          Stanford University                   USA            2            \n",
       "3 3          Massachusetts Institute of Technology USA            3            \n",
       "4 4          University of Cambridge               United Kingdom 1            \n",
       "5 5          University of Oxford                  United Kingdom 2            \n",
       "6 6          University of California, Berkeley    USA            4            \n",
       "  Quality.of.Education Alumni.Employment Quality.of.Faculty Research.Output\n",
       "1 2                    1                 1                  1              \n",
       "2 10                   3                 2                  10             \n",
       "3 3                    11                3                  30             \n",
       "4 5                    19                6                  12             \n",
       "5 9                    25                10                 9              \n",
       "6 7                    52                5                  18             \n",
       "  Quality..Publications Influence Citations Score\n",
       "1 1                     1         1         100.0\n",
       "2 4                     3         2          96.7\n",
       "3 15                    2         6          95.1\n",
       "4 8                     6         19         94.0\n",
       "5 5                     7         4          93.2\n",
       "6 12                    4         8          92.5"
      ]
     },
     "metadata": {},
     "output_type": "display_data"
    }
   ],
   "source": [
    "#turn '>1000' -> '1000' in order to analyse data numerically\n",
    "for (i in 1:nrow(rdata)){\n",
    "    for (j in 1:ncol(rdata)){\n",
    "        if (rdata[i,j] == '> 1000'){\n",
    "            rdata[i,j] = 1000\n",
    "        }\n",
    "    }\n",
    "}\n",
    "head(rdata)"
   ]
  },
  {
   "cell_type": "code",
   "execution_count": 141,
   "metadata": {},
   "outputs": [],
   "source": [
    "WR_USA = rdata$World.Rank[rdata$Location == 'USA']\n",
    "NR_USA = rdata$National.Rank[rdata$Location == 'USA']\n",
    "WR = rdata$World.Rank\n",
    "NR = rdata$National.Rank\n",
    "LO = rdata$Location\n",
    "QE = rdata$Quality.of.Education\n",
    "AE = rdata$Alumni.Employment\n",
    "QF = rdata$Quality.of.Faculty\n",
    "RO = rdata$Research.Output\n",
    "QP = rdata$Quality..Publications\n",
    "IN = rdata$Influence\n",
    "CI = rdata$Citations\n",
    "SC = rdata$Score"
   ]
  },
  {
   "cell_type": "markdown",
   "metadata": {},
   "source": [
    "### 2.1. Countries that have most schools in top-1000 list:"
   ]
  },
  {
   "cell_type": "markdown",
   "metadata": {},
   "source": [
    "Our analysis showed that USA has the most school in the list. The top 10 of the this list include USA, China, United Kingdom, France, Japan, Germany, Italy, Spain, South Korea and Canada, descendingly."
   ]
  },
  {
   "cell_type": "code",
   "execution_count": 474,
   "metadata": {},
   "outputs": [
    {
     "data": {
      "text/html": [
       "<table>\n",
       "<thead><tr><th scope=col>Country</th><th scope=col>Freq</th></tr></thead>\n",
       "<tbody>\n",
       "\t<tr><td>USA           </td><td>213           </td></tr>\n",
       "\t<tr><td>China         </td><td>108           </td></tr>\n",
       "\t<tr><td>United Kingdom</td><td> 62           </td></tr>\n",
       "\t<tr><td>France        </td><td> 58           </td></tr>\n",
       "\t<tr><td>Japan         </td><td> 56           </td></tr>\n",
       "\t<tr><td>Germany       </td><td> 54           </td></tr>\n",
       "</tbody>\n",
       "</table>\n"
      ],
      "text/latex": [
       "\\begin{tabular}{r|ll}\n",
       " Country & Freq\\\\\n",
       "\\hline\n",
       "\t USA            & 213           \\\\\n",
       "\t China          & 108           \\\\\n",
       "\t United Kingdom &  62           \\\\\n",
       "\t France         &  58           \\\\\n",
       "\t Japan          &  56           \\\\\n",
       "\t Germany        &  54           \\\\\n",
       "\\end{tabular}\n"
      ],
      "text/markdown": [
       "\n",
       "Country | Freq | \n",
       "|---|---|---|---|---|---|\n",
       "| USA            | 213            | \n",
       "| China          | 108            | \n",
       "| United Kingdom |  62            | \n",
       "| France         |  58            | \n",
       "| Japan          |  56            | \n",
       "| Germany        |  54            | \n",
       "\n",
       "\n"
      ],
      "text/plain": [
       "  Country        Freq\n",
       "1 USA            213 \n",
       "2 China          108 \n",
       "3 United Kingdom  62 \n",
       "4 France          58 \n",
       "5 Japan           56 \n",
       "6 Germany         54 "
      ]
     },
     "metadata": {},
     "output_type": "display_data"
    }
   ],
   "source": [
    "country_list = sort(table(fullrdata$Location), decreasing = TRUE)\n",
    "country_list = as.data.frame(country_list)\n",
    "country_list = setNames(object = country_list, c('Country', 'Freq'))\n",
    "head(country_list)"
   ]
  },
  {
   "cell_type": "markdown",
   "metadata": {},
   "source": [
    "_Table. 1. Countries with most schools in top-1000-list of best institutions_"
   ]
  },
  {
   "cell_type": "markdown",
   "metadata": {},
   "source": [
    "### 2.2. Correlation between global rank and national rank:"
   ]
  },
  {
   "cell_type": "markdown",
   "metadata": {},
   "source": [
    "Since we were unsure whether the national rank was obtained from other source or from the same evaluation method of world rank, we examine the world rank and national rank of schools in USA to determine if they are in the exact same order, that is, if a school has higher world rank, it also has higher national rank. Since the world rank is already in ascending order (1 is highest and 1000 is the lowest ranking), if the list of national rank of a country is in the same order, we can conclude that national rank is in agreement with world rank. We examined USA national rank as this country has the most school in the list. Our result showed that the national ranking follow the exact order corresponding with world ranking."
   ]
  },
  {
   "cell_type": "code",
   "execution_count": 167,
   "metadata": {},
   "outputs": [
    {
     "data": {
      "text/html": [
       "FALSE"
      ],
      "text/latex": [
       "FALSE"
      ],
      "text/markdown": [
       "FALSE"
      ],
      "text/plain": [
       "[1] FALSE"
      ]
     },
     "metadata": {},
     "output_type": "display_data"
    },
    {
     "data": {
      "text/html": [
       "FALSE"
      ],
      "text/latex": [
       "FALSE"
      ],
      "text/markdown": [
       "FALSE"
      ],
      "text/plain": [
       "[1] FALSE"
      ]
     },
     "metadata": {},
     "output_type": "display_data"
    }
   ],
   "source": [
    "# Examine if global rank is out of order \n",
    "is.unsorted(WR_USA)\n",
    "# Examine if national rank is out of order\n",
    "is.unsorted(NR_USA)"
   ]
  },
  {
   "cell_type": "markdown",
   "metadata": {},
   "source": [
    "### 2.3. Variables that correlate most to the ranking:"
   ]
  },
  {
   "cell_type": "markdown",
   "metadata": {},
   "source": [
    "In order the determine the factor that contribute most to the overall ranking, we calculated the correlation coefficient between world rank and other variables."
   ]
  },
  {
   "cell_type": "code",
   "execution_count": 172,
   "metadata": {},
   "outputs": [],
   "source": [
    "#Correlation coefficient list\n",
    "cclist = rep(list(),7)"
   ]
  },
  {
   "cell_type": "code",
   "execution_count": 181,
   "metadata": {},
   "outputs": [],
   "source": [
    "#Variables list\n",
    "vlist = c('Quality.of.Education', 'Alumni.Employment', 'Quality.of.Faculty', 'Research.Output', 'Quality..Publications', 'Influence', 'Citations')"
   ]
  },
  {
   "cell_type": "code",
   "execution_count": 196,
   "metadata": {},
   "outputs": [],
   "source": [
    "#World Rank vs Quality of Education\n",
    "cclist[[1]] = cor(WR,as.numeric(QE))\n",
    "#World Rank vs Alumni Employment\n",
    "cclist[[2]] = cor(WR, as.numeric(AE))\n",
    "#World Rank vs Quality of Faculty\n",
    "cclist[[3]] = cor(WR, as.numeric(QF))\n",
    "#World Rank vs Research Output\n",
    "cclist[[4]] = cor(WR, as.numeric(RO))\n",
    "#World Rank vs Quality of Publication\n",
    "cclist[[5]] = cor(WR, as.numeric(QP))\n",
    "#World Rank vs Influence\n",
    "cclist[[6]] = cor(WR, as.numeric(IN))\n",
    "#World Rank vs Citation\n",
    "cclist[[7]] = cor(WR, as.numeric(CI))"
   ]
  },
  {
   "cell_type": "code",
   "execution_count": 204,
   "metadata": {},
   "outputs": [],
   "source": [
    "cclist = as.character(cclist)"
   ]
  },
  {
   "cell_type": "code",
   "execution_count": 257,
   "metadata": {
    "scrolled": true
   },
   "outputs": [],
   "source": [
    "cor_table = data.frame(vlist, cclist)\n",
    "cor_table = setNames(object = cor_table, c('Variable', 'Correlation.Coefficient'))"
   ]
  },
  {
   "cell_type": "code",
   "execution_count": 259,
   "metadata": {
    "scrolled": false
   },
   "outputs": [
    {
     "data": {
      "text/html": [
       "<table>\n",
       "<thead><tr><th scope=col>Variable</th><th scope=col>Correlation.Coefficient</th></tr></thead>\n",
       "<tbody>\n",
       "\t<tr><td>Quality..Publications</td><td>0.93603888403313     </td></tr>\n",
       "\t<tr><td>Influence            </td><td>0.919680900143383    </td></tr>\n",
       "\t<tr><td>Citations            </td><td>0.901851598838739    </td></tr>\n",
       "\t<tr><td>Research.Output      </td><td>0.86791478384934     </td></tr>\n",
       "\t<tr><td>Quality.of.Faculty   </td><td>0.504842340108242    </td></tr>\n",
       "\t<tr><td>Quality.of.Education </td><td>0.424577547468939    </td></tr>\n",
       "\t<tr><td>Alumni.Employment    </td><td>0.336292658853758    </td></tr>\n",
       "</tbody>\n",
       "</table>\n"
      ],
      "text/latex": [
       "\\begin{tabular}{r|ll}\n",
       " Variable & Correlation.Coefficient\\\\\n",
       "\\hline\n",
       "\t Quality..Publications & 0.93603888403313     \\\\\n",
       "\t Influence             & 0.919680900143383    \\\\\n",
       "\t Citations             & 0.901851598838739    \\\\\n",
       "\t Research.Output       & 0.86791478384934     \\\\\n",
       "\t Quality.of.Faculty    & 0.504842340108242    \\\\\n",
       "\t Quality.of.Education  & 0.424577547468939    \\\\\n",
       "\t Alumni.Employment     & 0.336292658853758    \\\\\n",
       "\\end{tabular}\n"
      ],
      "text/markdown": [
       "\n",
       "Variable | Correlation.Coefficient | \n",
       "|---|---|---|---|---|---|---|\n",
       "| Quality..Publications | 0.93603888403313      | \n",
       "| Influence             | 0.919680900143383     | \n",
       "| Citations             | 0.901851598838739     | \n",
       "| Research.Output       | 0.86791478384934      | \n",
       "| Quality.of.Faculty    | 0.504842340108242     | \n",
       "| Quality.of.Education  | 0.424577547468939     | \n",
       "| Alumni.Employment     | 0.336292658853758     | \n",
       "\n",
       "\n"
      ],
      "text/plain": [
       "  Variable              Correlation.Coefficient\n",
       "1 Quality..Publications 0.93603888403313       \n",
       "2 Influence             0.919680900143383      \n",
       "3 Citations             0.901851598838739      \n",
       "4 Research.Output       0.86791478384934       \n",
       "5 Quality.of.Faculty    0.504842340108242      \n",
       "6 Quality.of.Education  0.424577547468939      \n",
       "7 Alumni.Employment     0.336292658853758      "
      ]
     },
     "metadata": {},
     "output_type": "display_data"
    }
   ],
   "source": [
    "#Arrange the table based on the descending order of correlation coefficient\n",
    "arrange(cor_table, desc(Correlation.Coefficient))"
   ]
  },
  {
   "cell_type": "markdown",
   "metadata": {},
   "source": [
    "_Table.2. Correlation coefficient between World Ranks and different variables._"
   ]
  },
  {
   "cell_type": "markdown",
   "metadata": {},
   "source": [
    "According to our analysis, the quality of publications of an institution is the most important variable that dictate its ranking, followed by the amount of influence, citations and research output. The variables that have least influence on the ranking scheme is the level of alumni employment and quality of education."
   ]
  },
  {
   "cell_type": "markdown",
   "metadata": {},
   "source": [
    "To visualize the differences between the overal rank and the factors that contribute to ranking evaluation, we plotted the relationship with trend line for each variable."
   ]
  },
  {
   "cell_type": "code",
   "execution_count": 305,
   "metadata": {},
   "outputs": [
    {
     "data": {
      "image/png": "[encoded data removed]",
      "text/plain": [
       "plot without title"
      ]
     },
     "metadata": {},
     "output_type": "display_data"
    }
   ],
   "source": [
    "par(mfrow=c(3,3))\n",
    "plot(WR, QP, col = 'blue', pch = 16, xlab = 'World Rank', ylab = 'Quality of Publication')\n",
    "abline(lm(QP ~ WR), col = 'red')\n",
    "plot(WR, IN, col = 'blue', pch = 16,  xlab = 'World Rank', ylab = 'Influence')\n",
    "abline(lm(IN ~ WR), col = 'red')\n",
    "plot(WR, CI, col = 'blue', pch = 16, xlab = 'World Rank', ylab = 'Citation')\n",
    "abline(lm(CI ~ WR), col = 'red')\n",
    "plot(WR, RO, col = 'blue', pch = 16,  xlab = 'World Rank', ylab = 'Research Output')\n",
    "abline(lm(RO ~ WR), col = 'red')\n",
    "plot(WR, QF, col = 'blue', pch = 16,  xlab = 'World Rank', ylab = 'Quality of Faculty')\n",
    "abline(lm(QF ~ WR), col = 'red')\n",
    "plot(WR, QE, col = 'blue', pch = 16, xlab = 'World Rank', ylab = 'Quality of Education')\n",
    "abline(lm(QE ~ WR), col = 'red')\n",
    "plot(WR, AE, col = 'blue', pch = 16,  xlab = 'World Rank', ylab = 'Alumni Employment')\n",
    "abline(lm(AE ~ WR), col = 'red')"
   ]
  },
  {
   "cell_type": "markdown",
   "metadata": {},
   "source": [
    "_Figure.1. Correlation of World Rank and other variables_"
   ]
  },
  {
   "cell_type": "markdown",
   "metadata": {},
   "source": [
    "## 3. Discussion:"
   ]
  },
  {
   "cell_type": "markdown",
   "metadata": {},
   "source": [
    "We obtained a table of continents and their countries and joined this table with our previous ranking by country to see the distribution of high-rank schools among different continents. "
   ]
  },
  {
   "cell_type": "code",
   "execution_count": 469,
   "metadata": {
    "scrolled": true
   },
   "outputs": [
    {
     "data": {
      "text/html": [
       "<table>\n",
       "<thead><tr><th scope=col>Continent</th><th scope=col>Country</th></tr></thead>\n",
       "<tbody>\n",
       "\t<tr><td>Africa  </td><td>Algeria </td></tr>\n",
       "\t<tr><td>Africa  </td><td>Angola  </td></tr>\n",
       "\t<tr><td>Africa  </td><td>Benin   </td></tr>\n",
       "\t<tr><td>Africa  </td><td>Botswana</td></tr>\n",
       "\t<tr><td>Africa  </td><td>Burkina </td></tr>\n",
       "\t<tr><td>Africa  </td><td>Burundi </td></tr>\n",
       "</tbody>\n",
       "</table>\n"
      ],
      "text/latex": [
       "\\begin{tabular}{r|ll}\n",
       " Continent & Country\\\\\n",
       "\\hline\n",
       "\t Africa   & Algeria \\\\\n",
       "\t Africa   & Angola  \\\\\n",
       "\t Africa   & Benin   \\\\\n",
       "\t Africa   & Botswana\\\\\n",
       "\t Africa   & Burkina \\\\\n",
       "\t Africa   & Burundi \\\\\n",
       "\\end{tabular}\n"
      ],
      "text/markdown": [
       "\n",
       "Continent | Country | \n",
       "|---|---|---|---|---|---|\n",
       "| Africa   | Algeria  | \n",
       "| Africa   | Angola   | \n",
       "| Africa   | Benin    | \n",
       "| Africa   | Botswana | \n",
       "| Africa   | Burkina  | \n",
       "| Africa   | Burundi  | \n",
       "\n",
       "\n"
      ],
      "text/plain": [
       "  Continent Country \n",
       "1 Africa    Algeria \n",
       "2 Africa    Angola  \n",
       "3 Africa    Benin   \n",
       "4 Africa    Botswana\n",
       "5 Africa    Burkina \n",
       "6 Africa    Burundi "
      ]
     },
     "metadata": {},
     "output_type": "display_data"
    }
   ],
   "source": [
    "countries = read.csv(\"countries.txt\")\n",
    "head(countries)"
   ]
  },
  {
   "cell_type": "code",
   "execution_count": 449,
   "metadata": {},
   "outputs": [],
   "source": [
    "countries$Continent = as.character(countries$Continent)\n",
    "countries$Country = as.character(countries$Country)"
   ]
  },
  {
   "cell_type": "code",
   "execution_count": 463,
   "metadata": {
    "scrolled": true
   },
   "outputs": [],
   "source": [
    "Country_Continent = left_join(fullrdata, countries, by=c(\"Location\"=\"Country\")) "
   ]
  },
  {
   "cell_type": "code",
   "execution_count": 465,
   "metadata": {
    "scrolled": true
   },
   "outputs": [
    {
     "data": {
      "text/plain": [
       "NULL"
      ]
     },
     "metadata": {},
     "output_type": "display_data"
    },
    {
     "data": {
      "text/html": [
       "<table>\n",
       "<thead><tr><th scope=col>World.Rank</th><th scope=col>Institution</th><th scope=col>Location</th><th scope=col>National.Rank</th><th scope=col>Quality.of.Education</th><th scope=col>Alumni.Employment</th><th scope=col>Quality.of.Faculty</th><th scope=col>Research.Output</th><th scope=col>Quality..Publications</th><th scope=col>Influence</th><th scope=col>Citations</th><th scope=col>Score</th><th scope=col>Continent</th></tr></thead>\n",
       "<tbody>\n",
       "\t<tr><td>1                                    </td><td>Harvard University                   </td><td>USA                                  </td><td>1                                    </td><td>2                                    </td><td>1                                    </td><td>1                                    </td><td>1                                    </td><td>1                                    </td><td>1                                    </td><td>1                                    </td><td>100.0                                </td><td>North America                        </td></tr>\n",
       "\t<tr><td>2                                    </td><td>Stanford University                  </td><td>USA                                  </td><td>2                                    </td><td>10                                   </td><td>3                                    </td><td>2                                    </td><td>10                                   </td><td>4                                    </td><td>3                                    </td><td>2                                    </td><td> 96.7                                </td><td>North America                        </td></tr>\n",
       "\t<tr><td>3                                    </td><td>Massachusetts Institute of Technology</td><td>USA                                  </td><td>3                                    </td><td>3                                    </td><td>11                                   </td><td>3                                    </td><td>30                                   </td><td>15                                   </td><td>2                                    </td><td>6                                    </td><td> 95.1                                </td><td>North America                        </td></tr>\n",
       "\t<tr><td>4                                    </td><td>University of Cambridge              </td><td>United Kingdom                       </td><td>1                                    </td><td>5                                    </td><td>19                                   </td><td>6                                    </td><td>12                                   </td><td>8                                    </td><td>6                                    </td><td>19                                   </td><td> 94.0                                </td><td>Europe                               </td></tr>\n",
       "\t<tr><td>5                                    </td><td>University of Oxford                 </td><td>United Kingdom                       </td><td>2                                    </td><td>9                                    </td><td>25                                   </td><td>10                                   </td><td>9                                    </td><td>5                                    </td><td>7                                    </td><td>4                                    </td><td> 93.2                                </td><td>Europe                               </td></tr>\n",
       "\t<tr><td>6                                    </td><td>University of California, Berkeley   </td><td>USA                                  </td><td>4                                    </td><td>7                                    </td><td>52                                   </td><td>5                                    </td><td>18                                   </td><td>12                                   </td><td>4                                    </td><td>8                                    </td><td> 92.5                                </td><td>North America                        </td></tr>\n",
       "</tbody>\n",
       "</table>\n"
      ],
      "text/latex": [
       "\\begin{tabular}{r|lllllllllllll}\n",
       " World.Rank & Institution & Location & National.Rank & Quality.of.Education & Alumni.Employment & Quality.of.Faculty & Research.Output & Quality..Publications & Influence & Citations & Score & Continent\\\\\n",
       "\\hline\n",
       "\t 1                                     & Harvard University                    & USA                                   & 1                                     & 2                                     & 1                                     & 1                                     & 1                                     & 1                                     & 1                                     & 1                                     & 100.0                                 & North America                        \\\\\n",
       "\t 2                                     & Stanford University                   & USA                                   & 2                                     & 10                                    & 3                                     & 2                                     & 10                                    & 4                                     & 3                                     & 2                                     &  96.7                                 & North America                        \\\\\n",
       "\t 3                                     & Massachusetts Institute of Technology & USA                                   & 3                                     & 3                                     & 11                                    & 3                                     & 30                                    & 15                                    & 2                                     & 6                                     &  95.1                                 & North America                        \\\\\n",
       "\t 4                                     & University of Cambridge               & United Kingdom                        & 1                                     & 5                                     & 19                                    & 6                                     & 12                                    & 8                                     & 6                                     & 19                                    &  94.0                                 & Europe                               \\\\\n",
       "\t 5                                     & University of Oxford                  & United Kingdom                        & 2                                     & 9                                     & 25                                    & 10                                    & 9                                     & 5                                     & 7                                     & 4                                     &  93.2                                 & Europe                               \\\\\n",
       "\t 6                                     & University of California, Berkeley    & USA                                   & 4                                     & 7                                     & 52                                    & 5                                     & 18                                    & 12                                    & 4                                     & 8                                     &  92.5                                 & North America                        \\\\\n",
       "\\end{tabular}\n"
      ],
      "text/markdown": [
       "\n",
       "World.Rank | Institution | Location | National.Rank | Quality.of.Education | Alumni.Employment | Quality.of.Faculty | Research.Output | Quality..Publications | Influence | Citations | Score | Continent | \n",
       "|---|---|---|---|---|---|\n",
       "| 1                                     | Harvard University                    | USA                                   | 1                                     | 2                                     | 1                                     | 1                                     | 1                                     | 1                                     | 1                                     | 1                                     | 100.0                                 | North America                         | \n",
       "| 2                                     | Stanford University                   | USA                                   | 2                                     | 10                                    | 3                                     | 2                                     | 10                                    | 4                                     | 3                                     | 2                                     |  96.7                                 | North America                         | \n",
       "| 3                                     | Massachusetts Institute of Technology | USA                                   | 3                                     | 3                                     | 11                                    | 3                                     | 30                                    | 15                                    | 2                                     | 6                                     |  95.1                                 | North America                         | \n",
       "| 4                                     | University of Cambridge               | United Kingdom                        | 1                                     | 5                                     | 19                                    | 6                                     | 12                                    | 8                                     | 6                                     | 19                                    |  94.0                                 | Europe                                | \n",
       "| 5                                     | University of Oxford                  | United Kingdom                        | 2                                     | 9                                     | 25                                    | 10                                    | 9                                     | 5                                     | 7                                     | 4                                     |  93.2                                 | Europe                                | \n",
       "| 6                                     | University of California, Berkeley    | USA                                   | 4                                     | 7                                     | 52                                    | 5                                     | 18                                    | 12                                    | 4                                     | 8                                     |  92.5                                 | North America                         | \n",
       "\n",
       "\n"
      ],
      "text/plain": [
       "  World.Rank Institution                           Location       National.Rank\n",
       "1 1          Harvard University                    USA            1            \n",
       "2 2          Stanford University                   USA            2            \n",
       "3 3          Massachusetts Institute of Technology USA            3            \n",
       "4 4          University of Cambridge               United Kingdom 1            \n",
       "5 5          University of Oxford                  United Kingdom 2            \n",
       "6 6          University of California, Berkeley    USA            4            \n",
       "  Quality.of.Education Alumni.Employment Quality.of.Faculty Research.Output\n",
       "1 2                    1                 1                  1              \n",
       "2 10                   3                 2                  10             \n",
       "3 3                    11                3                  30             \n",
       "4 5                    19                6                  12             \n",
       "5 9                    25                10                 9              \n",
       "6 7                    52                5                  18             \n",
       "  Quality..Publications Influence Citations Score Continent    \n",
       "1 1                     1         1         100.0 North America\n",
       "2 4                     3         2          96.7 North America\n",
       "3 15                    2         6          95.1 North America\n",
       "4 8                     6         19         94.0 Europe       \n",
       "5 5                     7         4          93.2 Europe       \n",
       "6 12                    4         8          92.5 North America"
      ]
     },
     "metadata": {},
     "output_type": "display_data"
    }
   ],
   "source": [
    "# R did not recognize South Korea and Taiwan, but we know these are countries in Asia\n",
    "head(Country_Continent)"
   ]
  },
  {
   "cell_type": "markdown",
   "metadata": {},
   "source": [
    "Our summary table (Table.3) showed that although USA has the most high-ranked school as a country, Europe as a continent has the most schools (384 not including Russia) that made it to this top-1000 list. North America come second with 245 schools, and Asia come third with 239 schools (not including Russia). These 3 continents significantly outnumber other continents such Africa, Oceania and South America in terms of institutions number in this list. This data is, to some extend, correlated with current study-abroad trends around the world. Specifically, USA has always been the most common country option for student when they consider studying abroad. Europe is also a very common destination for international students. "
   ]
  },
  {
   "cell_type": "code",
   "execution_count": 476,
   "metadata": {},
   "outputs": [
    {
     "data": {
      "text/html": [
       "<table>\n",
       "<thead><tr><th scope=col>Continent</th><th scope=col>Freq</th></tr></thead>\n",
       "<tbody>\n",
       "\t<tr><td>Europe       </td><td>384          </td></tr>\n",
       "\t<tr><td>North America</td><td>245          </td></tr>\n",
       "\t<tr><td>Asia         </td><td>239          </td></tr>\n",
       "\t<tr><td>South America</td><td> 31          </td></tr>\n",
       "\t<tr><td>Oceania      </td><td> 30          </td></tr>\n",
       "\t<tr><td>Africa       </td><td> 14          </td></tr>\n",
       "\t<tr><td>Asia/Europe  </td><td>  5          </td></tr>\n",
       "</tbody>\n",
       "</table>\n"
      ],
      "text/latex": [
       "\\begin{tabular}{r|ll}\n",
       " Continent & Freq\\\\\n",
       "\\hline\n",
       "\t Europe        & 384          \\\\\n",
       "\t North America & 245          \\\\\n",
       "\t Asia          & 239          \\\\\n",
       "\t South America &  31          \\\\\n",
       "\t Oceania       &  30          \\\\\n",
       "\t Africa        &  14          \\\\\n",
       "\t Asia/Europe   &   5          \\\\\n",
       "\\end{tabular}\n"
      ],
      "text/markdown": [
       "\n",
       "Continent | Freq | \n",
       "|---|---|---|---|---|---|---|\n",
       "| Europe        | 384           | \n",
       "| North America | 245           | \n",
       "| Asia          | 239           | \n",
       "| South America |  31           | \n",
       "| Oceania       |  30           | \n",
       "| Africa        |  14           | \n",
       "| Asia/Europe   |   5           | \n",
       "\n",
       "\n"
      ],
      "text/plain": [
       "  Continent     Freq\n",
       "1 Europe        384 \n",
       "2 North America 245 \n",
       "3 Asia          239 \n",
       "4 South America  31 \n",
       "5 Oceania        30 \n",
       "6 Africa         14 \n",
       "7 Asia/Europe     5 "
      ]
     },
     "metadata": {},
     "output_type": "display_data"
    }
   ],
   "source": [
    "CCtable = data.frame(sort(table(Country_Continent$Continent), decreasing = TRUE))\n",
    "CCtable = setNames(object = CCtable, c('Continent', 'Freq'))\n",
    "CCtable"
   ]
  },
  {
   "cell_type": "markdown",
   "metadata": {},
   "source": [
    "_Table.3. Number of schools in top-1000 list from each continent._"
   ]
  },
  {
   "cell_type": "markdown",
   "metadata": {},
   "source": [
    "Although most variables were claimed to contribute 15%, (for Citations, it was 10%) to the overall rank score, our correlation test showed that the ranking is tightly correlated with Research Output, Quality Publications, Influence and Citations, while Quality of Education, Alumni Employment and Quality of Faculty\thad noticeably much weaker correlation. We suspected this disagreement was due to the fact that there are many missing values for variables, which can cause either inaccuracy in our correlation test or biased ranking evaluation from CWUR side. Nevertheless, we believe this ranking system is quite thorough in evaluating the academia value of institutions. However, there are other aspects that make quality of a school, which we believed was not addressed in this ranking system. Specifically, there are important aspects that should be taken into cosideration, such as: school facilities, learning/living environment, teacher's competence & ethics, student-care services, student career assistance, regulation and policy. "
   ]
  },
  {
   "cell_type": "markdown",
   "metadata": {},
   "source": [
    "For students that are interested in pursuing science and appreciate the academia value, this ranking table can be the right one to refer during the making of decision of which school to go to. However, for students who look for a good college experience/life, this ranking table might not provide them enough information and details that they are looking for."
   ]
  },
  {
   "cell_type": "markdown",
   "metadata": {},
   "source": [
    "Overall, ranking data can be a good start for students if they are overwhelmed with the number of college options out there and do not know where to start. However, depending on the major they pursue, and the experience and the outcome they expect out of your degree, at some point, they will need to look pass the ranking number and familiarize theirselves with each potential school option to eventually pick out the suitable one."
   ]
  },
  {
   "cell_type": "code",
   "execution_count": null,
   "metadata": {},
   "outputs": [],
   "source": []
  }
 ],
 "metadata": {
  "kernelspec": {
   "display_name": "R",
   "language": "R",
   "name": "ir"
  },
  "language_info": {
   "codemirror_mode": "r",
   "file_extension": ".r",
   "mimetype": "text/x-r-source",
   "name": "R",
   "pygments_lexer": "r",
   "version": "3.5.1"
  }
 },
 "nbformat": 4,
 "nbformat_minor": 2
}
